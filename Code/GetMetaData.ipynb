{
 "cells": [
  {
   "cell_type": "code",
   "execution_count": 2,
   "metadata": {},
   "outputs": [],
   "source": [
    "import json\n",
    "import os\n",
    "\n",
    "from PIL import Image\n",
    "from PIL.ExifTags import TAGS"
   ]
  },
  {
   "cell_type": "code",
   "execution_count": 3,
   "metadata": {},
   "outputs": [],
   "source": [
    "def decodeDictionary(dictionary):\n",
    "  if type(dictionary) == dict:\n",
    "    for key in dictionary.keys():\n",
    "        dictionary[key] = decodeDictionary(dictionary[key])\n",
    "  elif type(dictionary) == bytes:\n",
    "        dictionary = dictionary.decode('ISO-8859-1') \n",
    "  return dictionary"
   ]
  },
  {
   "cell_type": "code",
   "execution_count": 8,
   "metadata": {},
   "outputs": [],
   "source": [
    "pasta = \"C:\\\\Users\\\\gusta\\\\OneDrive\\\\Área de Trabalho\\\\Fruit\"\n",
    "data = {} \n",
    "for diretorio, subpastas, arquivos in os.walk(pasta):\n",
    "\n",
    "    for arquivo in arquivos:\n",
    "        if (arquivo.split('.')[-1].upper() in ('JPG', 'PNG')) & (os.path.isfile(os.path.join(diretorio, arquivo))):\n",
    "\n",
    "            image = Image.open(os.path.join(diretorio, arquivo))\n",
    "\n",
    "            exifdata = image.getexif()\n",
    "\n",
    "            meta = {}\n",
    "            meta[\"Image Size\"] = image.size,\n",
    "            meta[\"Image Height\"] = image.height,\n",
    "            meta[\"Image Width\"] = image.width,\n",
    "            meta[\"Image Format\"] = image.format,\n",
    "            meta[\"Image Mode\"] = image.mode,\n",
    "\n",
    "            for tagid in exifdata:\n",
    "\n",
    "                tagname = TAGS.get(tagid, tagid)\n",
    "\n",
    "                value = exifdata.get(tagid)\n",
    "\n",
    "                meta[tagname] = value if type(value) not in (bytes, dict) else decodeDictionary(value)\n",
    "\n",
    "            data[os.path.join(diretorio.replace(pasta, \"\"), arquivo)] =  meta"
   ]
  },
  {
   "cell_type": "code",
   "execution_count": 9,
   "metadata": {},
   "outputs": [],
   "source": [
    "with open('metadata.json', 'w', encoding='utf-8') as f:\n",
    "    json.dump(data, f, ensure_ascii=False, indent=4)"
   ]
  }
 ],
 "metadata": {
  "kernelspec": {
   "display_name": "Python 3",
   "language": "python",
   "name": "python3"
  },
  "language_info": {
   "codemirror_mode": {
    "name": "ipython",
    "version": 3
   },
   "file_extension": ".py",
   "mimetype": "text/x-python",
   "name": "python",
   "nbconvert_exporter": "python",
   "pygments_lexer": "ipython3",
   "version": "3.10.6"
  },
  "orig_nbformat": 4
 },
 "nbformat": 4,
 "nbformat_minor": 2
}
